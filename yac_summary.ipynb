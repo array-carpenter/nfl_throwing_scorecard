{
 "cells": [
  {
   "cell_type": "code",
   "execution_count": 1,
   "metadata": {},
   "outputs": [
    {
     "name": "stdout",
     "output_type": "stream",
     "text": [
      "   passer_player_name  passing_yards  yards_after_catch  yac_percentage\n",
      "5           J.Daniels          822.0              432.0       52.554745\n",
      "4             J.Allen          636.0              322.0       50.628931\n",
      "13         M.Stafford          533.0              179.0       33.583490\n",
      "2            C.Stroud          527.0              180.0       34.155598\n",
      "9             J.Hurts          505.0              303.0       60.000000\n",
      "12          L.Jackson          429.0              171.0       39.860140\n",
      "14          P.Mahomes          422.0              328.0       77.725118\n",
      "7              J.Goff          313.0              153.0       48.881789\n",
      "16           R.Wilson          270.0              126.0       46.666667\n",
      "17          S.Darnold          245.0               99.0       40.408163\n",
      "8           J.Herbert          242.0              112.0       46.280992\n",
      "10             J.Love          212.0              127.0       59.905660\n",
      "0          B.Mayfield          185.0               81.0       43.783784\n",
      "1               B.Nix          144.0               30.0       20.833333\n",
      "19              T.Way           23.0                7.0       30.434783\n",
      "3        D.Montgomery           20.0               23.0      115.000000\n",
      "15            R.Dixon           15.0                0.0        0.000000\n",
      "18      T.Bridgewater            3.0                0.0        0.000000\n",
      "11        Ja.Williams            0.0                0.0             NaN\n",
      "6            J.Fields            0.0                0.0             NaN\n"
     ]
    }
   ],
   "source": [
    "import pandas as pd\n",
    "\n",
    "YEAR = 2024\n",
    "url = f'https://github.com/nflverse/nflverse-data/releases/download/pbp/play_by_play_{YEAR}.csv.gz'\n",
    "data = pd.read_csv(url, compression='gzip', low_memory=False)\n",
    "\n",
    "playoff_data = data[data['week'].isin([19, 20, 21])]\n",
    "\n",
    "if all(col in playoff_data.columns for col in ['passer_player_name', 'passing_yards', 'yards_after_catch']):\n",
    "    passing_stats = playoff_data.groupby('passer_player_name', as_index=False).agg({\n",
    "        'passing_yards': 'sum',\n",
    "        'yards_after_catch': 'sum'\n",
    "    })\n",
    "\n",
    "\n",
    "    passing_stats['yac_percentage'] = (passing_stats['yards_after_catch'] / passing_stats['passing_yards']) * 100\n",
    "\n",
    "    passing_stats = passing_stats.sort_values(by='passing_yards', ascending=False)\n",
    "    print(passing_stats)\n",
    "else:\n",
    "    print(\"The required columns ('passer_player_name', 'passing_yards', 'yards_after_catch') are not present in the data.\")\n"
   ]
  },
  {
   "cell_type": "code",
   "execution_count": 36,
   "metadata": {},
   "outputs": [
    {
     "data": {
      "application/vnd.plotly.v1+json": {
       "config": {
        "plotlyServerURL": "https://plot.ly"
       },
       "data": [
        {
         "marker": {
          "color": "#9f9f9f"
         },
         "name": "Air Yards",
         "orientation": "h",
         "showlegend": true,
         "type": "bar",
         "x": [
          114,
          354,
          258,
          146,
          104,
          130,
          144,
          160,
          314,
          390,
          85,
          202,
          94
         ],
         "y": [
          "B.Nix",
          "M.Stafford",
          "L.Jackson",
          "S.Darnold",
          "B.Mayfield",
          "J.Herbert",
          "R.Wilson",
          "J.Goff",
          "J.Allen",
          "J.Daniels",
          "J.Love",
          "J.Hurts",
          "P.Mahomes"
         ]
        },
        {
         "marker": {
          "color": "#01C4E7"
         },
         "name": "YAC",
         "orientation": "h",
         "showlegend": true,
         "type": "bar",
         "x": [
          30,
          179,
          171,
          99,
          81,
          112,
          126,
          153,
          322,
          432,
          127,
          303,
          328
         ],
         "y": [
          "B.Nix",
          "M.Stafford",
          "L.Jackson",
          "S.Darnold",
          "B.Mayfield",
          "J.Herbert",
          "R.Wilson",
          "J.Goff",
          "J.Allen",
          "J.Daniels",
          "J.Love",
          "J.Hurts",
          "P.Mahomes"
         ]
        }
       ],
       "layout": {
        "annotations": [
         {
          "font": {
           "color": "white",
           "size": 12
          },
          "showarrow": false,
          "text": "20.8%",
          "x": 144,
          "xanchor": "left",
          "y": "B.Nix"
         },
         {
          "font": {
           "color": "white",
           "size": 12
          },
          "showarrow": false,
          "text": "33.6%",
          "x": 533,
          "xanchor": "left",
          "y": "M.Stafford"
         },
         {
          "font": {
           "color": "white",
           "size": 12
          },
          "showarrow": false,
          "text": "39.9%",
          "x": 429,
          "xanchor": "left",
          "y": "L.Jackson"
         },
         {
          "font": {
           "color": "white",
           "size": 12
          },
          "showarrow": false,
          "text": "40.4%",
          "x": 245,
          "xanchor": "left",
          "y": "S.Darnold"
         },
         {
          "font": {
           "color": "white",
           "size": 12
          },
          "showarrow": false,
          "text": "43.8%",
          "x": 185,
          "xanchor": "left",
          "y": "B.Mayfield"
         },
         {
          "font": {
           "color": "white",
           "size": 12
          },
          "showarrow": false,
          "text": "46.3%",
          "x": 242,
          "xanchor": "left",
          "y": "J.Herbert"
         },
         {
          "font": {
           "color": "white",
           "size": 12
          },
          "showarrow": false,
          "text": "46.7%",
          "x": 270,
          "xanchor": "left",
          "y": "R.Wilson"
         },
         {
          "font": {
           "color": "white",
           "size": 12
          },
          "showarrow": false,
          "text": "48.9%",
          "x": 313,
          "xanchor": "left",
          "y": "J.Goff"
         },
         {
          "font": {
           "color": "white",
           "size": 12
          },
          "showarrow": false,
          "text": "50.6%",
          "x": 636,
          "xanchor": "left",
          "y": "J.Allen"
         },
         {
          "font": {
           "color": "white",
           "size": 12
          },
          "showarrow": false,
          "text": "52.6%",
          "x": 822,
          "xanchor": "left",
          "y": "J.Daniels"
         },
         {
          "font": {
           "color": "white",
           "size": 12
          },
          "showarrow": false,
          "text": "59.9%",
          "x": 212,
          "xanchor": "left",
          "y": "J.Love"
         },
         {
          "font": {
           "color": "white",
           "size": 12
          },
          "showarrow": false,
          "text": "60.0%",
          "x": 505,
          "xanchor": "left",
          "y": "J.Hurts"
         },
         {
          "font": {
           "color": "white",
           "size": 12
          },
          "showarrow": false,
          "text": "77.7%",
          "x": 422,
          "xanchor": "left",
          "y": "P.Mahomes"
         },
         {
          "font": {
           "color": "white",
           "size": 12
          },
          "showarrow": false,
          "text": "Ray Carpenter | @array_carpenter | TheSpade.Substack.com | Data: NFLVerse",
          "x": 0.5,
          "xanchor": "center",
          "xref": "paper",
          "y": -0.05,
          "yanchor": "top",
          "yref": "paper"
         }
        ],
        "barmode": "stack",
        "height": 800,
        "images": [
         {
          "layer": "above",
          "opacity": 1,
          "sizex": 0.15,
          "sizey": 0.15,
          "sizing": "contain",
          "source": "1.png",
          "x": 1,
          "xanchor": "right",
          "xref": "paper",
          "y": 0,
          "yanchor": "bottom",
          "yref": "paper"
         }
        ],
        "legend": {
         "font": {
          "color": "white",
          "size": 12
         },
         "orientation": "v",
         "x": 1,
         "xanchor": "right",
         "y": 1.02,
         "yanchor": "bottom"
        },
        "margin": {
         "b": 60,
         "l": 100,
         "r": 20,
         "t": 80
        },
        "paper_bgcolor": "#15202B",
        "plot_bgcolor": "#15202B",
        "template": {
         "data": {
          "bar": [
           {
            "error_x": {
             "color": "#2a3f5f"
            },
            "error_y": {
             "color": "#2a3f5f"
            },
            "marker": {
             "line": {
              "color": "#E5ECF6",
              "width": 0.5
             },
             "pattern": {
              "fillmode": "overlay",
              "size": 10,
              "solidity": 0.2
             }
            },
            "type": "bar"
           }
          ],
          "barpolar": [
           {
            "marker": {
             "line": {
              "color": "#E5ECF6",
              "width": 0.5
             },
             "pattern": {
              "fillmode": "overlay",
              "size": 10,
              "solidity": 0.2
             }
            },
            "type": "barpolar"
           }
          ],
          "carpet": [
           {
            "aaxis": {
             "endlinecolor": "#2a3f5f",
             "gridcolor": "white",
             "linecolor": "white",
             "minorgridcolor": "white",
             "startlinecolor": "#2a3f5f"
            },
            "baxis": {
             "endlinecolor": "#2a3f5f",
             "gridcolor": "white",
             "linecolor": "white",
             "minorgridcolor": "white",
             "startlinecolor": "#2a3f5f"
            },
            "type": "carpet"
           }
          ],
          "choropleth": [
           {
            "colorbar": {
             "outlinewidth": 0,
             "ticks": ""
            },
            "type": "choropleth"
           }
          ],
          "contour": [
           {
            "colorbar": {
             "outlinewidth": 0,
             "ticks": ""
            },
            "colorscale": [
             [
              0,
              "#0d0887"
             ],
             [
              0.1111111111111111,
              "#46039f"
             ],
             [
              0.2222222222222222,
              "#7201a8"
             ],
             [
              0.3333333333333333,
              "#9c179e"
             ],
             [
              0.4444444444444444,
              "#bd3786"
             ],
             [
              0.5555555555555556,
              "#d8576b"
             ],
             [
              0.6666666666666666,
              "#ed7953"
             ],
             [
              0.7777777777777778,
              "#fb9f3a"
             ],
             [
              0.8888888888888888,
              "#fdca26"
             ],
             [
              1,
              "#f0f921"
             ]
            ],
            "type": "contour"
           }
          ],
          "contourcarpet": [
           {
            "colorbar": {
             "outlinewidth": 0,
             "ticks": ""
            },
            "type": "contourcarpet"
           }
          ],
          "heatmap": [
           {
            "colorbar": {
             "outlinewidth": 0,
             "ticks": ""
            },
            "colorscale": [
             [
              0,
              "#0d0887"
             ],
             [
              0.1111111111111111,
              "#46039f"
             ],
             [
              0.2222222222222222,
              "#7201a8"
             ],
             [
              0.3333333333333333,
              "#9c179e"
             ],
             [
              0.4444444444444444,
              "#bd3786"
             ],
             [
              0.5555555555555556,
              "#d8576b"
             ],
             [
              0.6666666666666666,
              "#ed7953"
             ],
             [
              0.7777777777777778,
              "#fb9f3a"
             ],
             [
              0.8888888888888888,
              "#fdca26"
             ],
             [
              1,
              "#f0f921"
             ]
            ],
            "type": "heatmap"
           }
          ],
          "heatmapgl": [
           {
            "colorbar": {
             "outlinewidth": 0,
             "ticks": ""
            },
            "colorscale": [
             [
              0,
              "#0d0887"
             ],
             [
              0.1111111111111111,
              "#46039f"
             ],
             [
              0.2222222222222222,
              "#7201a8"
             ],
             [
              0.3333333333333333,
              "#9c179e"
             ],
             [
              0.4444444444444444,
              "#bd3786"
             ],
             [
              0.5555555555555556,
              "#d8576b"
             ],
             [
              0.6666666666666666,
              "#ed7953"
             ],
             [
              0.7777777777777778,
              "#fb9f3a"
             ],
             [
              0.8888888888888888,
              "#fdca26"
             ],
             [
              1,
              "#f0f921"
             ]
            ],
            "type": "heatmapgl"
           }
          ],
          "histogram": [
           {
            "marker": {
             "pattern": {
              "fillmode": "overlay",
              "size": 10,
              "solidity": 0.2
             }
            },
            "type": "histogram"
           }
          ],
          "histogram2d": [
           {
            "colorbar": {
             "outlinewidth": 0,
             "ticks": ""
            },
            "colorscale": [
             [
              0,
              "#0d0887"
             ],
             [
              0.1111111111111111,
              "#46039f"
             ],
             [
              0.2222222222222222,
              "#7201a8"
             ],
             [
              0.3333333333333333,
              "#9c179e"
             ],
             [
              0.4444444444444444,
              "#bd3786"
             ],
             [
              0.5555555555555556,
              "#d8576b"
             ],
             [
              0.6666666666666666,
              "#ed7953"
             ],
             [
              0.7777777777777778,
              "#fb9f3a"
             ],
             [
              0.8888888888888888,
              "#fdca26"
             ],
             [
              1,
              "#f0f921"
             ]
            ],
            "type": "histogram2d"
           }
          ],
          "histogram2dcontour": [
           {
            "colorbar": {
             "outlinewidth": 0,
             "ticks": ""
            },
            "colorscale": [
             [
              0,
              "#0d0887"
             ],
             [
              0.1111111111111111,
              "#46039f"
             ],
             [
              0.2222222222222222,
              "#7201a8"
             ],
             [
              0.3333333333333333,
              "#9c179e"
             ],
             [
              0.4444444444444444,
              "#bd3786"
             ],
             [
              0.5555555555555556,
              "#d8576b"
             ],
             [
              0.6666666666666666,
              "#ed7953"
             ],
             [
              0.7777777777777778,
              "#fb9f3a"
             ],
             [
              0.8888888888888888,
              "#fdca26"
             ],
             [
              1,
              "#f0f921"
             ]
            ],
            "type": "histogram2dcontour"
           }
          ],
          "mesh3d": [
           {
            "colorbar": {
             "outlinewidth": 0,
             "ticks": ""
            },
            "type": "mesh3d"
           }
          ],
          "parcoords": [
           {
            "line": {
             "colorbar": {
              "outlinewidth": 0,
              "ticks": ""
             }
            },
            "type": "parcoords"
           }
          ],
          "pie": [
           {
            "automargin": true,
            "type": "pie"
           }
          ],
          "scatter": [
           {
            "fillpattern": {
             "fillmode": "overlay",
             "size": 10,
             "solidity": 0.2
            },
            "type": "scatter"
           }
          ],
          "scatter3d": [
           {
            "line": {
             "colorbar": {
              "outlinewidth": 0,
              "ticks": ""
             }
            },
            "marker": {
             "colorbar": {
              "outlinewidth": 0,
              "ticks": ""
             }
            },
            "type": "scatter3d"
           }
          ],
          "scattercarpet": [
           {
            "marker": {
             "colorbar": {
              "outlinewidth": 0,
              "ticks": ""
             }
            },
            "type": "scattercarpet"
           }
          ],
          "scattergeo": [
           {
            "marker": {
             "colorbar": {
              "outlinewidth": 0,
              "ticks": ""
             }
            },
            "type": "scattergeo"
           }
          ],
          "scattergl": [
           {
            "marker": {
             "colorbar": {
              "outlinewidth": 0,
              "ticks": ""
             }
            },
            "type": "scattergl"
           }
          ],
          "scattermapbox": [
           {
            "marker": {
             "colorbar": {
              "outlinewidth": 0,
              "ticks": ""
             }
            },
            "type": "scattermapbox"
           }
          ],
          "scatterpolar": [
           {
            "marker": {
             "colorbar": {
              "outlinewidth": 0,
              "ticks": ""
             }
            },
            "type": "scatterpolar"
           }
          ],
          "scatterpolargl": [
           {
            "marker": {
             "colorbar": {
              "outlinewidth": 0,
              "ticks": ""
             }
            },
            "type": "scatterpolargl"
           }
          ],
          "scatterternary": [
           {
            "marker": {
             "colorbar": {
              "outlinewidth": 0,
              "ticks": ""
             }
            },
            "type": "scatterternary"
           }
          ],
          "surface": [
           {
            "colorbar": {
             "outlinewidth": 0,
             "ticks": ""
            },
            "colorscale": [
             [
              0,
              "#0d0887"
             ],
             [
              0.1111111111111111,
              "#46039f"
             ],
             [
              0.2222222222222222,
              "#7201a8"
             ],
             [
              0.3333333333333333,
              "#9c179e"
             ],
             [
              0.4444444444444444,
              "#bd3786"
             ],
             [
              0.5555555555555556,
              "#d8576b"
             ],
             [
              0.6666666666666666,
              "#ed7953"
             ],
             [
              0.7777777777777778,
              "#fb9f3a"
             ],
             [
              0.8888888888888888,
              "#fdca26"
             ],
             [
              1,
              "#f0f921"
             ]
            ],
            "type": "surface"
           }
          ],
          "table": [
           {
            "cells": {
             "fill": {
              "color": "#EBF0F8"
             },
             "line": {
              "color": "white"
             }
            },
            "header": {
             "fill": {
              "color": "#C8D4E3"
             },
             "line": {
              "color": "white"
             }
            },
            "type": "table"
           }
          ]
         },
         "layout": {
          "annotationdefaults": {
           "arrowcolor": "#2a3f5f",
           "arrowhead": 0,
           "arrowwidth": 1
          },
          "autotypenumbers": "strict",
          "coloraxis": {
           "colorbar": {
            "outlinewidth": 0,
            "ticks": ""
           }
          },
          "colorscale": {
           "diverging": [
            [
             0,
             "#8e0152"
            ],
            [
             0.1,
             "#c51b7d"
            ],
            [
             0.2,
             "#de77ae"
            ],
            [
             0.3,
             "#f1b6da"
            ],
            [
             0.4,
             "#fde0ef"
            ],
            [
             0.5,
             "#f7f7f7"
            ],
            [
             0.6,
             "#e6f5d0"
            ],
            [
             0.7,
             "#b8e186"
            ],
            [
             0.8,
             "#7fbc41"
            ],
            [
             0.9,
             "#4d9221"
            ],
            [
             1,
             "#276419"
            ]
           ],
           "sequential": [
            [
             0,
             "#0d0887"
            ],
            [
             0.1111111111111111,
             "#46039f"
            ],
            [
             0.2222222222222222,
             "#7201a8"
            ],
            [
             0.3333333333333333,
             "#9c179e"
            ],
            [
             0.4444444444444444,
             "#bd3786"
            ],
            [
             0.5555555555555556,
             "#d8576b"
            ],
            [
             0.6666666666666666,
             "#ed7953"
            ],
            [
             0.7777777777777778,
             "#fb9f3a"
            ],
            [
             0.8888888888888888,
             "#fdca26"
            ],
            [
             1,
             "#f0f921"
            ]
           ],
           "sequentialminus": [
            [
             0,
             "#0d0887"
            ],
            [
             0.1111111111111111,
             "#46039f"
            ],
            [
             0.2222222222222222,
             "#7201a8"
            ],
            [
             0.3333333333333333,
             "#9c179e"
            ],
            [
             0.4444444444444444,
             "#bd3786"
            ],
            [
             0.5555555555555556,
             "#d8576b"
            ],
            [
             0.6666666666666666,
             "#ed7953"
            ],
            [
             0.7777777777777778,
             "#fb9f3a"
            ],
            [
             0.8888888888888888,
             "#fdca26"
            ],
            [
             1,
             "#f0f921"
            ]
           ]
          },
          "colorway": [
           "#636efa",
           "#EF553B",
           "#00cc96",
           "#ab63fa",
           "#FFA15A",
           "#19d3f3",
           "#FF6692",
           "#B6E880",
           "#FF97FF",
           "#FECB52"
          ],
          "font": {
           "color": "#2a3f5f"
          },
          "geo": {
           "bgcolor": "white",
           "lakecolor": "white",
           "landcolor": "#E5ECF6",
           "showlakes": true,
           "showland": true,
           "subunitcolor": "white"
          },
          "hoverlabel": {
           "align": "left"
          },
          "hovermode": "closest",
          "mapbox": {
           "style": "light"
          },
          "paper_bgcolor": "white",
          "plot_bgcolor": "#E5ECF6",
          "polar": {
           "angularaxis": {
            "gridcolor": "white",
            "linecolor": "white",
            "ticks": ""
           },
           "bgcolor": "#E5ECF6",
           "radialaxis": {
            "gridcolor": "white",
            "linecolor": "white",
            "ticks": ""
           }
          },
          "scene": {
           "xaxis": {
            "backgroundcolor": "#E5ECF6",
            "gridcolor": "white",
            "gridwidth": 2,
            "linecolor": "white",
            "showbackground": true,
            "ticks": "",
            "zerolinecolor": "white"
           },
           "yaxis": {
            "backgroundcolor": "#E5ECF6",
            "gridcolor": "white",
            "gridwidth": 2,
            "linecolor": "white",
            "showbackground": true,
            "ticks": "",
            "zerolinecolor": "white"
           },
           "zaxis": {
            "backgroundcolor": "#E5ECF6",
            "gridcolor": "white",
            "gridwidth": 2,
            "linecolor": "white",
            "showbackground": true,
            "ticks": "",
            "zerolinecolor": "white"
           }
          },
          "shapedefaults": {
           "line": {
            "color": "#2a3f5f"
           }
          },
          "ternary": {
           "aaxis": {
            "gridcolor": "white",
            "linecolor": "white",
            "ticks": ""
           },
           "baxis": {
            "gridcolor": "white",
            "linecolor": "white",
            "ticks": ""
           },
           "bgcolor": "#E5ECF6",
           "caxis": {
            "gridcolor": "white",
            "linecolor": "white",
            "ticks": ""
           }
          },
          "title": {
           "x": 0.05
          },
          "xaxis": {
           "automargin": true,
           "gridcolor": "white",
           "linecolor": "white",
           "ticks": "",
           "title": {
            "standoff": 15
           },
           "zerolinecolor": "white",
           "zerolinewidth": 2
          },
          "yaxis": {
           "automargin": true,
           "gridcolor": "white",
           "linecolor": "white",
           "ticks": "",
           "title": {
            "standoff": 15
           },
           "zerolinecolor": "white",
           "zerolinewidth": 2
          }
         }
        },
        "title": {
         "font": {
          "color": "white",
          "size": 20
         },
         "text": "2024 Playoff Passing Yards Leaders<br><span style='font-size:18px;color:lightgray'>Ordered by YAC Contribution to Total</span>",
         "x": 0.5
        },
        "width": 600,
        "xaxis": {
         "showgrid": false,
         "tickfont": {
          "color": "white",
          "size": 14
         },
         "title": {
          "font": {
           "color": "white",
           "size": 16
          },
          "text": ""
         }
        },
        "yaxis": {
         "tickfont": {
          "color": "white",
          "size": 14
         },
         "title": {}
        }
       }
      }
     },
     "metadata": {},
     "output_type": "display_data"
    }
   ],
   "source": [
    "import pandas as pd\n",
    "import plotly.graph_objects as go\n",
    "\n",
    "background_color = \"#15202B\"\n",
    "gray_color = \"#9f9f9f\"\n",
    "highlight_color = \"#01C4E7\"\n",
    "\n",
    "players_to_include = [\n",
    "    'J.Daniels', 'J.Allen', 'M.Stafford', 'L.Jackson', 'P.Mahomes',\n",
    "    'J.Goff', 'R.Wilson', 'S.Darnold', 'J.Hurts', 'J.Herbert',\n",
    "    'J.Love', 'B.Mayfield', 'B.Nix'\n",
    "]\n",
    "\n",
    "filtered_stats = passing_stats[passing_stats['passer_player_name'].isin(players_to_include)]\n",
    "\n",
    "filtered_stats = filtered_stats.sort_values(by='yac_percentage', ascending=True).reset_index(drop=True)\n",
    "\n",
    "total_yards = filtered_stats['passing_yards']  \n",
    "yac_yards = filtered_stats['yards_after_catch'] \n",
    "\n",
    "fig = go.Figure()\n",
    "\n",
    "fig.add_trace(go.Bar(\n",
    "    y=filtered_stats['passer_player_name'],\n",
    "    x=total_yards - yac_yards,\n",
    "    name='Air Yards',\n",
    "    orientation='h',\n",
    "    marker_color=gray_color,\n",
    "    texttemplate=None,\n",
    "    showlegend=True\n",
    "))\n",
    "\n",
    "fig.add_trace(go.Bar(\n",
    "    y=filtered_stats['passer_player_name'],\n",
    "    x=yac_yards,\n",
    "    name='YAC',\n",
    "    orientation='h',\n",
    "    marker_color=highlight_color,\n",
    "    texttemplate=None,\n",
    "    showlegend=True\n",
    "))\n",
    "\n",
    "for i, row in filtered_stats.iterrows():\n",
    "    fig.add_annotation(\n",
    "        y=row['passer_player_name'],\n",
    "        x=row['yards_after_catch'] + (row['passing_yards'] - row['yards_after_catch']),\n",
    "        text=f\"{row['yac_percentage']:.1f}%\",\n",
    "        showarrow=False,\n",
    "        font=dict(size=12, color=\"white\"),\n",
    "        xanchor=\"left\"\n",
    "    )\n",
    "\n",
    "fig.add_layout_image(\n",
    "    dict(\n",
    "        source=\"1.png\",   \n",
    "        xref=\"paper\",\n",
    "        yref=\"paper\",\n",
    "        x=1,               \n",
    "        y=0,               \n",
    "        xanchor=\"right\",\n",
    "        yanchor=\"bottom\",\n",
    "        sizex=0.15,        \n",
    "        sizey=0.15,\n",
    "        sizing=\"contain\",\n",
    "        opacity=1,\n",
    "        layer=\"above\"\n",
    "    )\n",
    ")\n",
    "\n",
    "fig.update_layout(\n",
    "    title=dict(\n",
    "        text=\"2024 Playoff Passing Yards Leaders<br><span style='font-size:18px;color:lightgray'>Ordered by YAC Contribution to Total</span>\",\n",
    "        x=0.5,\n",
    "        font=dict(size=20, color=\"white\")\n",
    "    ),\n",
    "    barmode='stack',\n",
    "    xaxis=dict(\n",
    "        title=\"\",\n",
    "        title_font=dict(size=16, color=\"white\"),\n",
    "        tickfont=dict(size=14, color=\"white\"),\n",
    "        showgrid=False\n",
    "    ),\n",
    "    yaxis=dict(\n",
    "        title=None,\n",
    "        tickfont=dict(size=14, color=\"white\")\n",
    "    ),\n",
    "    legend=dict(\n",
    "        orientation=\"v\",\n",
    "        yanchor=\"bottom\",\n",
    "        y=1.02,\n",
    "        xanchor=\"right\",\n",
    "        x=1,\n",
    "        font=dict(size=12, color=\"white\")\n",
    "    ),\n",
    "    plot_bgcolor=background_color,\n",
    "    paper_bgcolor=background_color,\n",
    "    margin=dict(l=100, r=20, t=80, b=60),\n",
    "\n",
    "    height=800, \n",
    "    width=600   \n",
    ")\n",
    "\n",
    "fig.add_annotation(\n",
    "    text=\"Ray Carpenter | @array_carpenter | TheSpade.Substack.com | Data: NFLVerse\",\n",
    "    xref=\"paper\",\n",
    "    yref=\"paper\",\n",
    "    x=0.5,\n",
    "    y=-.05,    \n",
    "    xanchor=\"center\",\n",
    "    yanchor=\"top\",\n",
    "    showarrow=False,\n",
    "    font=dict(size=12, color=\"white\")\n",
    ")\n",
    "\n",
    "fig.show()\n"
   ]
  },
  {
   "cell_type": "code",
   "execution_count": null,
   "metadata": {},
   "outputs": [],
   "source": []
  }
 ],
 "metadata": {
  "kernelspec": {
   "display_name": "Python 3",
   "language": "python",
   "name": "python3"
  },
  "language_info": {
   "codemirror_mode": {
    "name": "ipython",
    "version": 3
   },
   "file_extension": ".py",
   "mimetype": "text/x-python",
   "name": "python",
   "nbconvert_exporter": "python",
   "pygments_lexer": "ipython3",
   "version": "3.12.5"
  }
 },
 "nbformat": 4,
 "nbformat_minor": 2
}
